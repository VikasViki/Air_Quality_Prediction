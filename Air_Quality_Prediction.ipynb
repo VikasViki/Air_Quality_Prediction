{
 "cells": [
  {
   "cell_type": "markdown",
   "metadata": {},
   "source": [
    "# Modules"
   ]
  },
  {
   "cell_type": "code",
   "execution_count": 7,
   "metadata": {},
   "outputs": [
    {
     "name": "stderr",
     "output_type": "stream",
     "text": [
      "C:\\Users\\vikastiwari\\AppData\\Local\\Continuum\\anaconda3\\lib\\importlib\\_bootstrap.py:219: RuntimeWarning: numpy.ufunc size changed, may indicate binary incompatibility. Expected 192 from C header, got 216 from PyObject\n",
      "  return f(*args, **kwds)\n",
      "C:\\Users\\vikastiwari\\AppData\\Local\\Continuum\\anaconda3\\lib\\importlib\\_bootstrap.py:219: RuntimeWarning: numpy.ufunc size changed, may indicate binary incompatibility. Expected 192 from C header, got 216 from PyObject\n",
      "  return f(*args, **kwds)\n",
      "C:\\Users\\vikastiwari\\AppData\\Local\\Continuum\\anaconda3\\lib\\importlib\\_bootstrap.py:219: RuntimeWarning: numpy.ufunc size changed, may indicate binary incompatibility. Expected 192 from C header, got 216 from PyObject\n",
      "  return f(*args, **kwds)\n",
      "C:\\Users\\vikastiwari\\AppData\\Local\\Continuum\\anaconda3\\lib\\importlib\\_bootstrap.py:219: RuntimeWarning: numpy.ufunc size changed, may indicate binary incompatibility. Expected 192 from C header, got 216 from PyObject\n",
      "  return f(*args, **kwds)\n",
      "C:\\Users\\vikastiwari\\AppData\\Local\\Continuum\\anaconda3\\lib\\importlib\\_bootstrap.py:219: RuntimeWarning: numpy.ufunc size changed, may indicate binary incompatibility. Expected 192 from C header, got 216 from PyObject\n",
      "  return f(*args, **kwds)\n"
     ]
    }
   ],
   "source": [
    "import matplotlib.pyplot as plt\n",
    "import numpy as np\n",
    "import pandas as pd\n",
    "import missingno as msno"
   ]
  },
  {
   "cell_type": "code",
   "execution_count": 2,
   "metadata": {},
   "outputs": [],
   "source": [
    "air_data = pd.read_csv('./Data/Train/air_quality_training_data.csv')"
   ]
  },
  {
   "cell_type": "code",
   "execution_count": 3,
   "metadata": {},
   "outputs": [
    {
     "data": {
      "text/html": [
       "<div>\n",
       "<style scoped>\n",
       "    .dataframe tbody tr th:only-of-type {\n",
       "        vertical-align: middle;\n",
       "    }\n",
       "\n",
       "    .dataframe tbody tr th {\n",
       "        vertical-align: top;\n",
       "    }\n",
       "\n",
       "    .dataframe thead th {\n",
       "        text-align: right;\n",
       "    }\n",
       "</style>\n",
       "<table border=\"1\" class=\"dataframe\">\n",
       "  <thead>\n",
       "    <tr style=\"text-align: right;\">\n",
       "      <th></th>\n",
       "      <th>feature_1</th>\n",
       "      <th>feature_2</th>\n",
       "      <th>feature_3</th>\n",
       "      <th>feature_4</th>\n",
       "      <th>feature_5</th>\n",
       "      <th>target</th>\n",
       "    </tr>\n",
       "  </thead>\n",
       "  <tbody>\n",
       "    <tr>\n",
       "      <th>0</th>\n",
       "      <td>0.293416</td>\n",
       "      <td>-0.945599</td>\n",
       "      <td>-0.421105</td>\n",
       "      <td>0.406816</td>\n",
       "      <td>0.525662</td>\n",
       "      <td>-82.154667</td>\n",
       "    </tr>\n",
       "    <tr>\n",
       "      <th>1</th>\n",
       "      <td>-0.836084</td>\n",
       "      <td>-0.189228</td>\n",
       "      <td>-0.776403</td>\n",
       "      <td>-1.053831</td>\n",
       "      <td>0.597997</td>\n",
       "      <td>-48.897960</td>\n",
       "    </tr>\n",
       "    <tr>\n",
       "      <th>2</th>\n",
       "      <td>0.236425</td>\n",
       "      <td>0.132836</td>\n",
       "      <td>-0.147723</td>\n",
       "      <td>0.699854</td>\n",
       "      <td>-0.187364</td>\n",
       "      <td>77.270371</td>\n",
       "    </tr>\n",
       "    <tr>\n",
       "      <th>3</th>\n",
       "      <td>0.175312</td>\n",
       "      <td>0.143194</td>\n",
       "      <td>-0.581111</td>\n",
       "      <td>-0.122107</td>\n",
       "      <td>-1.292168</td>\n",
       "      <td>-2.988581</td>\n",
       "    </tr>\n",
       "    <tr>\n",
       "      <th>4</th>\n",
       "      <td>-1.693011</td>\n",
       "      <td>0.542712</td>\n",
       "      <td>-2.798729</td>\n",
       "      <td>-0.686723</td>\n",
       "      <td>1.244077</td>\n",
       "      <td>-37.596722</td>\n",
       "    </tr>\n",
       "  </tbody>\n",
       "</table>\n",
       "</div>"
      ],
      "text/plain": [
       "   feature_1  feature_2  feature_3  feature_4  feature_5     target\n",
       "0   0.293416  -0.945599  -0.421105   0.406816   0.525662 -82.154667\n",
       "1  -0.836084  -0.189228  -0.776403  -1.053831   0.597997 -48.897960\n",
       "2   0.236425   0.132836  -0.147723   0.699854  -0.187364  77.270371\n",
       "3   0.175312   0.143194  -0.581111  -0.122107  -1.292168  -2.988581\n",
       "4  -1.693011   0.542712  -2.798729  -0.686723   1.244077 -37.596722"
      ]
     },
     "execution_count": 3,
     "metadata": {},
     "output_type": "execute_result"
    }
   ],
   "source": [
    "air_data.head()"
   ]
  },
  {
   "cell_type": "code",
   "execution_count": 5,
   "metadata": {},
   "outputs": [
    {
     "data": {
      "text/plain": [
       "(1600, 6)"
      ]
     },
     "execution_count": 5,
     "metadata": {},
     "output_type": "execute_result"
    }
   ],
   "source": [
    "air_data.shape"
   ]
  },
  {
   "cell_type": "markdown",
   "metadata": {},
   "source": [
    "## Checking the Count of Not Null Values"
   ]
  },
  {
   "cell_type": "code",
   "execution_count": 8,
   "metadata": {},
   "outputs": [
    {
     "data": {
      "text/plain": [
       "<matplotlib.axes._subplots.AxesSubplot at 0x1a11bf4fc88>"
      ]
     },
     "execution_count": 8,
     "metadata": {},
     "output_type": "execute_result"
    },
    {
     "data": {
      "image/png": "[encoded data removed]",
      "text/plain": [
       "<Figure size 1728x720 with 3 Axes>"
      ]
     },
     "metadata": {
      "needs_background": "light"
     },
     "output_type": "display_data"
    }
   ],
   "source": [
    "msno.bar(air_data)"
   ]
  },
  {
   "cell_type": "markdown",
   "metadata": {},
   "source": [
    "## Correlation Matrix"
   ]
  },
  {
   "cell_type": "code",
   "execution_count": 38,
   "metadata": {},
   "outputs": [
    {
     "data": {
      "text/html": [
       "<div>\n",
       "<style scoped>\n",
       "    .dataframe tbody tr th:only-of-type {\n",
       "        vertical-align: middle;\n",
       "    }\n",
       "\n",
       "    .dataframe tbody tr th {\n",
       "        vertical-align: top;\n",
       "    }\n",
       "\n",
       "    .dataframe thead th {\n",
       "        text-align: right;\n",
       "    }\n",
       "</style>\n",
       "<table border=\"1\" class=\"dataframe\">\n",
       "  <thead>\n",
       "    <tr style=\"text-align: right;\">\n",
       "      <th></th>\n",
       "      <th>feature_1</th>\n",
       "      <th>feature_2</th>\n",
       "      <th>feature_3</th>\n",
       "      <th>feature_4</th>\n",
       "      <th>feature_5</th>\n",
       "      <th>target</th>\n",
       "    </tr>\n",
       "  </thead>\n",
       "  <tbody>\n",
       "    <tr>\n",
       "      <th>feature_1</th>\n",
       "      <td>1.000000</td>\n",
       "      <td>0.017356</td>\n",
       "      <td>-0.007307</td>\n",
       "      <td>-0.051649</td>\n",
       "      <td>-0.004005</td>\n",
       "      <td>0.260274</td>\n",
       "    </tr>\n",
       "    <tr>\n",
       "      <th>feature_2</th>\n",
       "      <td>0.017356</td>\n",
       "      <td>1.000000</td>\n",
       "      <td>-0.053230</td>\n",
       "      <td>-0.000601</td>\n",
       "      <td>0.001096</td>\n",
       "      <td>0.855356</td>\n",
       "    </tr>\n",
       "    <tr>\n",
       "      <th>feature_3</th>\n",
       "      <td>-0.007307</td>\n",
       "      <td>-0.053230</td>\n",
       "      <td>1.000000</td>\n",
       "      <td>-0.004463</td>\n",
       "      <td>-0.066958</td>\n",
       "      <td>0.024866</td>\n",
       "    </tr>\n",
       "    <tr>\n",
       "      <th>feature_4</th>\n",
       "      <td>-0.051649</td>\n",
       "      <td>-0.000601</td>\n",
       "      <td>-0.004463</td>\n",
       "      <td>1.000000</td>\n",
       "      <td>-0.005602</td>\n",
       "      <td>0.396420</td>\n",
       "    </tr>\n",
       "    <tr>\n",
       "      <th>feature_5</th>\n",
       "      <td>-0.004005</td>\n",
       "      <td>0.001096</td>\n",
       "      <td>-0.066958</td>\n",
       "      <td>-0.005602</td>\n",
       "      <td>1.000000</td>\n",
       "      <td>0.014760</td>\n",
       "    </tr>\n",
       "    <tr>\n",
       "      <th>target</th>\n",
       "      <td>0.260274</td>\n",
       "      <td>0.855356</td>\n",
       "      <td>0.024866</td>\n",
       "      <td>0.396420</td>\n",
       "      <td>0.014760</td>\n",
       "      <td>1.000000</td>\n",
       "    </tr>\n",
       "  </tbody>\n",
       "</table>\n",
       "</div>"
      ],
      "text/plain": [
       "           feature_1  feature_2  feature_3  feature_4  feature_5    target\n",
       "feature_1   1.000000   0.017356  -0.007307  -0.051649  -0.004005  0.260274\n",
       "feature_2   0.017356   1.000000  -0.053230  -0.000601   0.001096  0.855356\n",
       "feature_3  -0.007307  -0.053230   1.000000  -0.004463  -0.066958  0.024866\n",
       "feature_4  -0.051649  -0.000601  -0.004463   1.000000  -0.005602  0.396420\n",
       "feature_5  -0.004005   0.001096  -0.066958  -0.005602   1.000000  0.014760\n",
       "target      0.260274   0.855356   0.024866   0.396420   0.014760  1.000000"
      ]
     },
     "execution_count": 38,
     "metadata": {},
     "output_type": "execute_result"
    }
   ],
   "source": [
    "air_data.corr()"
   ]
  },
  {
   "cell_type": "markdown",
   "metadata": {},
   "source": [
    "## Features vs Labels"
   ]
  },
  {
   "cell_type": "code",
   "execution_count": 47,
   "metadata": {},
   "outputs": [],
   "source": [
    "features = air_data[air_data.columns[:-1]]\n",
    "labels = air_data['target']"
   ]
  },
  {
   "cell_type": "markdown",
   "metadata": {},
   "source": [
    "## Train and Test Portions"
   ]
  },
  {
   "cell_type": "code",
   "execution_count": 48,
   "metadata": {},
   "outputs": [],
   "source": [
    "from sklearn.model_selection import train_test_split"
   ]
  },
  {
   "cell_type": "code",
   "execution_count": 49,
   "metadata": {},
   "outputs": [],
   "source": [
    "X_train, X_test, y_train, y_test = train_test_split(features, labels, test_size = 0.25)"
   ]
  },
  {
   "cell_type": "code",
   "execution_count": 50,
   "metadata": {},
   "outputs": [
    {
     "name": "stdout",
     "output_type": "stream",
     "text": [
      "X train shape  (1200, 5)\n",
      "X test shape  (400, 5)\n",
      "y train shape  (1200,)\n",
      "y test shape  (400,)\n"
     ]
    }
   ],
   "source": [
    "print('X train shape ',X_train.shape)\n",
    "print('X test shape ',X_test.shape)\n",
    "print('y train shape ',y_train.shape)\n",
    "print('y test shape ',y_test.shape)"
   ]
  },
  {
   "cell_type": "markdown",
   "metadata": {},
   "source": [
    "# Training Models"
   ]
  },
  {
   "cell_type": "code",
   "execution_count": 71,
   "metadata": {},
   "outputs": [],
   "source": [
    "score_of_models = {}"
   ]
  },
  {
   "cell_type": "markdown",
   "metadata": {},
   "source": [
    "## Linear Regression"
   ]
  },
  {
   "cell_type": "code",
   "execution_count": 51,
   "metadata": {},
   "outputs": [],
   "source": [
    "from sklearn.linear_model import LinearRegression"
   ]
  },
  {
   "cell_type": "code",
   "execution_count": 52,
   "metadata": {},
   "outputs": [
    {
     "data": {
      "text/plain": [
       "LinearRegression(copy_X=True, fit_intercept=True, n_jobs=None, normalize=False)"
      ]
     },
     "execution_count": 52,
     "metadata": {},
     "output_type": "execute_result"
    }
   ],
   "source": [
    "linear_regression = LinearRegression()\n",
    "linear_regression.fit(X_train,y_train)"
   ]
  },
  {
   "cell_type": "code",
   "execution_count": 53,
   "metadata": {
    "scrolled": true
   },
   "outputs": [
    {
     "name": "stdout",
     "output_type": "stream",
     "text": [
      "Predicted Target Values  [-4.37365743e+01  2.11573535e+01 -3.78361277e+00  6.41524482e+01\n",
      " -4.07656536e+01 -1.53224914e+02  6.47046344e+00  1.48495541e+02\n",
      " -2.65455415e+01  2.48223593e+01  2.97090691e+01 -7.42861013e+01\n",
      "  7.32148375e+00  2.54557243e+02  1.69545884e+02  8.17049762e+01\n",
      " -1.69107832e+01  1.68064116e+02  3.94414877e+01 -7.63642710e-01\n",
      "  8.12791460e+01  1.76599186e+02  1.91760987e+02 -8.48304796e+01\n",
      "  9.16683083e+01 -1.15424550e+00 -1.44346931e+02  1.14049899e+01\n",
      "  2.30929067e+02 -1.85259882e+02  5.65697239e+01 -8.09474813e+01\n",
      " -1.04494903e+02 -1.01069660e+01  5.20000886e+01 -3.09821682e+01\n",
      "  2.91014916e+02 -1.11193466e+01 -1.03700898e+02 -1.37614726e+02\n",
      " -8.76317560e+01  1.30619116e+02  2.66590053e+02  1.34876017e+01\n",
      "  1.27907298e+02  8.70104935e+01 -1.22374764e+02  4.86807248e+01\n",
      " -3.08274607e+01 -1.32723384e+02 -7.16498012e+01  2.15060962e+02\n",
      "  1.00706421e+02 -1.23316238e+02 -1.88848776e+02  1.24391332e+02\n",
      " -3.25415803e+01  3.38880728e+01 -7.90728830e+00 -1.61725948e+02\n",
      "  2.68709571e+02  9.26818655e+01 -4.18136206e+01  7.69330862e+01\n",
      "  7.77556724e+01 -8.03778835e+01 -1.85763527e+01 -6.15695323e+01\n",
      " -1.29798417e+01  2.11760256e+02  1.05162960e+02  2.12118252e+02\n",
      "  2.54701348e+02  2.86369638e+02  9.98135633e+00  9.02794586e+00\n",
      " -1.26701078e+02  2.05202271e+02  5.83278950e+01  1.95051550e+00\n",
      "  4.74040610e+01 -1.37298113e+02  4.62545602e+01 -1.56622408e+01\n",
      "  6.41308394e+01  5.13834100e+01 -5.57531866e+01  7.71955710e+00\n",
      "  4.97365241e+01 -9.42352584e+01  1.30884976e+01  2.64238468e+01\n",
      "  1.76340453e+02  2.74434428e+01  3.36268237e+01 -2.47153533e+01\n",
      " -3.67326315e+01  2.38692334e+01  1.99233805e+02  3.88161572e+00\n",
      "  1.03397788e+02 -6.09246617e+01  2.21668528e+01 -1.92393457e+02\n",
      " -4.31808053e+01 -1.80377976e+02  9.45931232e+01 -8.87813266e+01\n",
      "  6.87019821e+01 -1.16537140e+01 -8.62916448e+01 -6.60532609e+01\n",
      " -6.06591962e+01 -1.66567844e+02 -1.70272621e+01 -6.41330162e+01\n",
      "  2.11536371e+02 -1.23476052e+02  2.04824769e+01 -2.58484454e+02\n",
      " -3.58757658e+01  6.83114613e+01  1.16167669e+02  9.32000611e+01\n",
      "  5.98350737e+01  2.86524167e+02 -1.59390945e+02 -4.74209669e+01\n",
      " -1.17691162e+02  8.45301960e+01  1.96419751e+02 -1.94978527e+01\n",
      " -1.49747798e+02  1.08150450e+01 -9.35788689e+01  1.73936375e+02\n",
      " -9.54638679e+01  4.62115875e+00 -8.80824339e+01  6.98870620e+01\n",
      "  1.59901124e+02  7.60155942e+01  1.30832830e+02 -1.83541781e+02\n",
      " -2.93467615e+02 -7.49819852e+01 -1.21227819e+02  8.18265391e+00\n",
      "  6.75393240e+01 -1.55870410e+01 -4.66828741e+01  1.32289115e+02\n",
      "  1.00119651e+01  5.34018121e+01  9.09272975e+01 -9.25373328e+01\n",
      "  2.02191840e+01 -1.08082286e+02  4.57127974e+01  1.48316517e+02\n",
      "  5.90620284e+01 -1.40556484e+02 -9.21410716e+01 -4.38399168e+00\n",
      " -1.61827095e+02  2.56444206e+02 -8.65451832e+01 -1.30365530e+02\n",
      " -1.89367942e+01  2.65740093e+02 -7.04592518e+01  1.05852671e+02\n",
      "  1.76468911e+02  5.69061332e+01  5.50261716e+01  1.10333427e+02\n",
      "  2.07308085e+02  1.68506085e+02 -3.30918545e+01 -6.09961995e+01\n",
      "  1.16839601e+01 -1.02713440e+01 -2.67592257e+01 -1.35125786e+02\n",
      "  5.71982037e+00 -9.75593933e+00 -2.72890732e+01 -1.73610437e+02\n",
      "  1.36241986e+02  7.66119394e+01  4.79253255e+01  9.68833694e+01\n",
      " -2.84843264e+02  1.19071353e+02 -8.26589923e+01 -1.81280278e+02\n",
      "  2.39995406e+01 -1.61504543e+01 -6.53095066e+00 -1.79820560e+01\n",
      " -1.66980754e+01  1.66885596e+02  8.92406641e+01  2.15547322e+02\n",
      "  1.18484955e+02 -1.28086805e+02  6.85810377e+01  9.26556374e+01\n",
      " -1.05525710e+02 -1.27579870e+02  8.75320574e+01 -3.76727210e+01\n",
      "  8.17518241e+01  9.70062680e+01  2.03103113e+01  2.25359892e+02\n",
      "  2.30598816e+02 -1.22131154e+02  2.82975943e+01 -1.42871882e+02\n",
      "  1.98677443e+02  9.59305844e+01  4.11207350e+01  1.99250293e+01\n",
      " -9.18568653e+01  3.29329202e+01  3.42110035e+01  1.57904610e+02\n",
      "  1.71425562e+02 -9.62812351e+01  1.93995877e+02 -1.18567213e+02\n",
      " -3.35930413e+01 -8.69641849e+01 -1.33759503e+01 -2.78409984e+01\n",
      " -9.16369272e+01 -1.85113338e+01  1.81208730e+02 -2.22340595e+02\n",
      "  1.28031552e+02 -1.59786503e+02  1.02114392e+02 -3.05800814e+00\n",
      "  1.90620895e+02 -3.54007184e+01  3.69928797e+01 -1.60727060e+01\n",
      "  1.85882046e+01 -1.01398902e+00  9.68518104e+01 -8.18297866e+01\n",
      " -4.26435100e+01 -1.25399851e+02 -3.36088889e+02  4.24234148e+01\n",
      "  6.55267495e+01 -1.97626280e+02  1.15152595e+02 -1.63289720e+02\n",
      " -8.47537210e+01 -7.11123940e+01  1.32045182e+02 -5.18459389e+01\n",
      " -1.42476766e+01 -1.02993200e+02  2.23261370e+02 -1.03345459e+02\n",
      " -1.84693979e+01 -3.73899846e+01 -1.08560868e+02 -1.46362109e+02\n",
      "  7.71033715e+01  7.24502838e+01 -1.34099170e+02 -1.62484600e+01\n",
      " -2.71252422e+02 -1.00559297e+02 -9.55156298e+01 -1.34895553e+02\n",
      " -1.21598828e+02  2.26104985e+01  1.48724848e+02  2.28455059e+01\n",
      " -2.11552001e+01 -3.38694902e+01 -1.77087226e+02  1.50517290e+02\n",
      " -1.20679325e+01  7.54203454e+01 -6.22878118e+01 -1.22308007e+02\n",
      " -4.47337984e+01  5.74110629e+01 -1.28468457e+02  1.45808642e+02\n",
      " -2.34783432e+02 -1.20049346e+02 -5.71398351e+01  1.65926514e+01\n",
      " -1.90074786e+02 -6.85328905e+01 -1.90295068e+02 -1.55023019e+02\n",
      " -7.39200897e+01 -5.19016128e+01  6.05788532e+01 -8.48195770e+01\n",
      " -8.90416932e+01 -1.73896401e+01  8.69875610e+01 -5.39093723e+01\n",
      "  1.72950599e+01  8.08574762e+01 -1.51151593e+02 -5.20959093e+01\n",
      "  6.30617573e+01 -1.35478205e+02 -2.14683625e+02 -2.83989813e+01\n",
      " -2.34583224e+02  8.85198208e+01 -1.21936360e+02  9.05194234e+01\n",
      "  4.62252853e+01 -1.03505451e+02 -9.14164150e+01 -6.33052561e+01\n",
      " -1.20645198e+02  1.76919420e+02  1.40516024e+02 -1.41531917e+02\n",
      " -2.45136381e+01 -2.93193648e+01  2.29574565e+00 -2.74278904e+01\n",
      " -3.58954342e+00  1.43819933e+02 -4.45225795e+01 -1.11421855e+02\n",
      "  2.50214189e+01  4.73183885e+01  3.71946591e+00 -5.44926884e+01\n",
      "  3.83794646e+01  7.34134414e+01 -1.87190897e+02  3.52060062e+01\n",
      " -8.67326422e+01 -7.20248221e+01 -2.10201840e+01 -6.03840004e+01\n",
      " -2.16123827e+01  1.59796759e+02  8.30219406e+01  2.68796288e+01\n",
      "  3.00790340e+00 -1.32172074e+02  5.02492086e+00  1.50333623e+01\n",
      " -5.78320911e+01  8.74110419e+01 -1.27788048e+02 -3.01369243e+01\n",
      "  9.96829252e+00 -1.40867832e+02  1.34750859e+02 -1.54437195e+02\n",
      "  1.47271730e+02 -1.60854277e+02 -1.66328525e+02  2.97540421e+01\n",
      " -5.41181717e+01  5.87130328e+01  9.10627118e+01  1.00847169e+02\n",
      "  7.29302799e+01 -3.35563778e+00 -3.74213830e+01  6.30130012e+01\n",
      " -6.93908128e+01 -6.11820751e+01 -3.95585995e+00  1.49810517e+02\n",
      "  6.70045839e+01 -1.32874296e+01 -2.72482831e-01 -2.50265762e+02\n",
      " -1.66117410e+02 -2.96734428e+02 -2.67431932e+01  3.17472859e+01\n",
      "  1.51234633e+01  1.41955736e+02 -5.61508899e+01 -3.58316466e+00\n",
      "  5.88688112e+00  3.91697048e+00  2.12072359e+01 -9.24783314e+01]\n"
     ]
    }
   ],
   "source": [
    "print('Predicted Target Values ',linear_regression.predict(X_test))"
   ]
  },
  {
   "cell_type": "code",
   "execution_count": 72,
   "metadata": {},
   "outputs": [
    {
     "name": "stdout",
     "output_type": "stream",
     "text": [
      "R^2 Score for Linear Regression :  0.9684696784694126\n"
     ]
    }
   ],
   "source": [
    "linear_regression_score = linear_regression.score(X_test,y_test)\n",
    "print('R^2 Score for Linear Regression : ', linear_regression_score)\n",
    "score_of_models['LinearRegression'] = linear_regression_score"
   ]
  },
  {
   "cell_type": "markdown",
   "metadata": {},
   "source": [
    "## Support Vector Regression"
   ]
  },
  {
   "cell_type": "code",
   "execution_count": 56,
   "metadata": {},
   "outputs": [],
   "source": [
    "from sklearn.svm import SVR"
   ]
  },
  {
   "cell_type": "code",
   "execution_count": 69,
   "metadata": {},
   "outputs": [
    {
     "data": {
      "text/plain": [
       "SVR(C=1000.0, cache_size=200, coef0=0.0, degree=3, epsilon=0.1, gamma=0.1,\n",
       "    kernel='rbf', max_iter=-1, shrinking=True, tol=0.001, verbose=False)"
      ]
     },
     "execution_count": 69,
     "metadata": {},
     "output_type": "execute_result"
    }
   ],
   "source": [
    "svr_rbf = SVR(kernel = 'rbf', C=1e3, gamma=0.1)\n",
    "svr_rbf.fit(X_train, y_train)"
   ]
  },
  {
   "cell_type": "code",
   "execution_count": 73,
   "metadata": {},
   "outputs": [
    {
     "name": "stdout",
     "output_type": "stream",
     "text": [
      "R^2 score for  SVR :  0.9623130205374784\n"
     ]
    }
   ],
   "source": [
    "svr_score = svr_rbf.score(X_test,y_test)\n",
    "print('R^2 score for  SVR : ', svr_score)\n",
    "score_of_models['SVR'] = svr_score"
   ]
  },
  {
   "cell_type": "markdown",
   "metadata": {},
   "source": [
    "## Decision Tree Regression"
   ]
  },
  {
   "cell_type": "code",
   "execution_count": 75,
   "metadata": {},
   "outputs": [],
   "source": [
    "from sklearn.tree import DecisionTreeRegressor"
   ]
  },
  {
   "cell_type": "code",
   "execution_count": 94,
   "metadata": {},
   "outputs": [
    {
     "data": {
      "text/plain": [
       "DecisionTreeRegressor(criterion='mse', max_depth=10, max_features=None,\n",
       "                      max_leaf_nodes=1000, min_impurity_decrease=0.0,\n",
       "                      min_impurity_split=None, min_samples_leaf=1,\n",
       "                      min_samples_split=2, min_weight_fraction_leaf=0.0,\n",
       "                      presort=False, random_state=None, splitter='best')"
      ]
     },
     "execution_count": 94,
     "metadata": {},
     "output_type": "execute_result"
    }
   ],
   "source": [
    "dtr_model = DecisionTreeRegressor(max_leaf_nodes=1000, max_depth=10)\n",
    "dtr_model.fit(X_train, y_train)"
   ]
  },
  {
   "cell_type": "code",
   "execution_count": 95,
   "metadata": {},
   "outputs": [
    {
     "name": "stdout",
     "output_type": "stream",
     "text": [
      "R^2 Score for DecisionTreeRegressor :  0.8961871015944072\n"
     ]
    }
   ],
   "source": [
    "dtr_score = dtr_model.score(X_test, y_test)\n",
    "print('R^2 Score for DecisionTreeRegressor : ',dtr_score)\n",
    "score_of_models['DecisionTreeRegressor'] = dtr_score"
   ]
  },
  {
   "cell_type": "markdown",
   "metadata": {},
   "source": [
    "## RandomForestRegressor"
   ]
  },
  {
   "cell_type": "code",
   "execution_count": 96,
   "metadata": {},
   "outputs": [],
   "source": [
    "from sklearn.ensemble import RandomForestRegressor"
   ]
  },
  {
   "cell_type": "code",
   "execution_count": 114,
   "metadata": {},
   "outputs": [
    {
     "name": "stderr",
     "output_type": "stream",
     "text": [
      "C:\\Users\\vikastiwari\\AppData\\Local\\Continuum\\anaconda3\\lib\\site-packages\\sklearn\\ensemble\\forest.py:245: FutureWarning: The default value of n_estimators will change from 10 in version 0.20 to 100 in 0.22.\n",
      "  \"10 in version 0.20 to 100 in 0.22.\", FutureWarning)\n"
     ]
    },
    {
     "data": {
      "text/plain": [
       "RandomForestRegressor(bootstrap=True, criterion='mse', max_depth=100,\n",
       "                      max_features='auto', max_leaf_nodes=1000,\n",
       "                      min_impurity_decrease=0.0, min_impurity_split=None,\n",
       "                      min_samples_leaf=1, min_samples_split=2,\n",
       "                      min_weight_fraction_leaf=0.0, n_estimators=10,\n",
       "                      n_jobs=None, oob_score=False, random_state=None,\n",
       "                      verbose=0, warm_start=False)"
      ]
     },
     "execution_count": 114,
     "metadata": {},
     "output_type": "execute_result"
    }
   ],
   "source": [
    "rfr_model = RandomForestRegressor(max_leaf_nodes=1000, max_depth=100)\n",
    "rfr_model.fit(X_train,y_train)"
   ]
  },
  {
   "cell_type": "code",
   "execution_count": 115,
   "metadata": {},
   "outputs": [
    {
     "name": "stdout",
     "output_type": "stream",
     "text": [
      "RandomForestRegressor Score :  0.9348039002279319\n"
     ]
    }
   ],
   "source": [
    "rfr_score = rfr_model.score(X_test,y_test)\n",
    "print('RandomForestRegressor Score : ',rfr_score)\n",
    "score_of_models['RandomForestRegressor'] = rfr_score"
   ]
  },
  {
   "cell_type": "markdown",
   "metadata": {},
   "source": [
    "# Score of Models"
   ]
  },
  {
   "cell_type": "code",
   "execution_count": 126,
   "metadata": {},
   "outputs": [
    {
     "data": {
      "image/png": "[encoded data removed]",
      "text/plain": [
       "<Figure size 432x288 with 1 Axes>"
      ]
     },
     "metadata": {
      "needs_background": "light"
     },
     "output_type": "display_data"
    }
   ],
   "source": [
    "plt.bar(range(len(score_of_models)), list(score_of_models.values()), align='center')\n",
    "plt.xticks(range(len(score_of_models)),list(score_of_models.keys()))\n",
    "plt.show()"
   ]
  },
  {
   "cell_type": "markdown",
   "metadata": {},
   "source": [
    "# Predicting Air Quality for Test Data"
   ]
  },
  {
   "cell_type": "code",
   "execution_count": 128,
   "metadata": {},
   "outputs": [],
   "source": [
    "test_data = pd.read_csv('./Data/Test/air_quality_test_data.csv')"
   ]
  },
  {
   "cell_type": "code",
   "execution_count": 136,
   "metadata": {},
   "outputs": [],
   "source": [
    "predicted_air_quality = linear_regression.predict(test_data)"
   ]
  },
  {
   "cell_type": "code",
   "execution_count": 140,
   "metadata": {},
   "outputs": [],
   "source": [
    "df = pd.DataFrame({'Id':range(predicted_air_quality.shape[0]),'target':predicted_air_quality})"
   ]
  },
  {
   "cell_type": "code",
   "execution_count": 143,
   "metadata": {},
   "outputs": [],
   "source": [
    "df.to_csv('air_quality_prediction.csv', index=False)"
   ]
  }
 ],
 "metadata": {
  "kernelspec": {
   "display_name": "Python 3",
   "language": "python",
   "name": "python3"
  },
  "language_info": {
   "codemirror_mode": {
    "name": "ipython",
    "version": 3
   },
   "file_extension": ".py",
   "mimetype": "text/x-python",
   "name": "python",
   "nbconvert_exporter": "python",
   "pygments_lexer": "ipython3",
   "version": "3.7.3"
  }
 },
 "nbformat": 4,
 "nbformat_minor": 2
}
